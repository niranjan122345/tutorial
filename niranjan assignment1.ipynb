{
 "cells": [
  {
   "cell_type": "code",
   "execution_count": 147,
   "id": "81aa387a-528b-47c6-ad2a-81571cb3b270",
   "metadata": {},
   "outputs": [
    {
     "name": "stdout",
     "output_type": "stream",
     "text": [
      "5\n"
     ]
    }
   ],
   "source": [
    "x = 5\n",
    "print(x)"
   ]
  },
  {
   "cell_type": "code",
   "execution_count": 148,
   "id": "18c5ad5c-b7f3-4845-a560-9013dec5ec6b",
   "metadata": {},
   "outputs": [
    {
     "name": "stdout",
     "output_type": "stream",
     "text": [
      "5\n"
     ]
    }
   ],
   "source": [
    "a = 3\n",
    "b = 2\n",
    "result = a + b\n",
    "print(result)"
   ]
  },
  {
   "cell_type": "code",
   "execution_count": 149,
   "id": "51fbd8f4-43e9-4406-8b05-726867b2dfb6",
   "metadata": {},
   "outputs": [
    {
     "name": "stdout",
     "output_type": "stream",
     "text": [
      "3.14159\n"
     ]
    }
   ],
   "source": [
    "pi = 3.14159\n",
    "print(pi)"
   ]
  },
  {
   "cell_type": "code",
   "execution_count": 150,
   "id": "8bfb426f-5ebc-4766-9c4c-476a5415dfb4",
   "metadata": {},
   "outputs": [
    {
     "name": "stdout",
     "output_type": "stream",
     "text": [
      "78.53981633974483\n"
     ]
    }
   ],
   "source": [
    "import math\n",
    "radius = 5\n",
    "area = math.pi * radius ** 2\n",
    "print(area)"
   ]
  },
  {
   "cell_type": "code",
   "execution_count": 151,
   "id": "b321a65d-9912-4015-a894-e459b68fc5a7",
   "metadata": {},
   "outputs": [
    {
     "name": "stdout",
     "output_type": "stream",
     "text": [
      "Hello, Assistant\n"
     ]
    }
   ],
   "source": [
    "print(\"Hello, \" + \"Assistant\")"
   ]
  },
  {
   "cell_type": "code",
   "execution_count": 152,
   "id": "2097a08a-d326-4c56-8f81-48b87ec2828a",
   "metadata": {},
   "outputs": [
    {
     "name": "stdout",
     "output_type": "stream",
     "text": [
      "I am 3 years old.\n"
     ]
    }
   ],
   "source": [
    "print(\"I am \" + str(3) + \" years old.\")"
   ]
  },
  {
   "cell_type": "code",
   "execution_count": 153,
   "id": "c1319014-c8e0-4076-a3bd-5fdac760d47a",
   "metadata": {},
   "outputs": [
    {
     "name": "stdout",
     "output_type": "stream",
     "text": [
      "I am 1.75 meters tall.\n"
     ]
    }
   ],
   "source": [
    "print(\"I am \" + str(1.75) + \" meters tall.\")"
   ]
  },
  {
   "cell_type": "code",
   "execution_count": 154,
   "id": "34086941-5fa6-4d61-8634-4a765d30d968",
   "metadata": {},
   "outputs": [
    {
     "name": "stdout",
     "output_type": "stream",
     "text": [
      "The first letter of the sentence is H\n"
     ]
    }
   ],
   "source": [
    "\n",
    "print(\"The first letter of the sentence is H\", )"
   ]
  },
  {
   "cell_type": "code",
   "execution_count": 155,
   "id": "b4a81561-ebfa-4321-99ce-893f730e0feb",
   "metadata": {},
   "outputs": [
    {
     "name": "stdout",
     "output_type": "stream",
     "text": [
      "The last letter of the sentence is L\n"
     ]
    }
   ],
   "source": [
    "print(\"The last letter of the sentence is L\", )"
   ]
  },
  {
   "cell_type": "code",
   "execution_count": 156,
   "id": "73a225c6-4660-4c76-8750-29f4097d3678",
   "metadata": {},
   "outputs": [
    {
     "name": "stdout",
     "output_type": "stream",
     "text": [
      "The length of the sentence is 44\n"
     ]
    }
   ],
   "source": [
    "print(\"The length of the sentence is 44\", )"
   ]
  }
 ],
 "metadata": {
  "kernelspec": {
   "display_name": "Python 3 (ipykernel)",
   "language": "python",
   "name": "python3"
  },
  "language_info": {
   "codemirror_mode": {
    "name": "ipython",
    "version": 3
   },
   "file_extension": ".py",
   "mimetype": "text/x-python",
   "name": "python",
   "nbconvert_exporter": "python",
   "pygments_lexer": "ipython3",
   "version": "3.9.1"
  }
 },
 "nbformat": 4,
 "nbformat_minor": 5
}
