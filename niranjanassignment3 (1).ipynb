{
 "cells": [
  {
   "cell_type": "code",
   "execution_count": 4,
   "id": "e57bfcc9",
   "metadata": {},
   "outputs": [
    {
     "name": "stdout",
     "output_type": "stream",
     "text": [
      "   sepal_length  sepal_width  petal_length  petal_width species\n",
      "0           5.1          3.5           1.4          0.2  setosa\n",
      "1           4.9          3.0           1.4          0.2  setosa\n",
      "2           4.7          3.2           1.3          0.2  setosa\n",
      "3           4.6          3.1           1.5          0.2  setosa\n",
      "4           5.0          3.6           1.4          0.2  setosa\n"
     ]
    }
   ],
   "source": [
    "import pandas as pd\n",
    "\n",
    "\n",
    "data = pd.read_csv(\"https://raw.githubusercontent.com/mwaskom/seaborn-data/master/iris.csv\")\n",
    "\n",
    "\n",
    "print(data.head())"
   ]
  },
  {
   "cell_type": "code",
   "execution_count": 5,
   "id": "ece68817",
   "metadata": {},
   "outputs": [
    {
     "name": "stdout",
     "output_type": "stream",
     "text": [
      "Number of rows:150\n",
      "Number of columns:5\n"
     ]
    }
   ],
   "source": [
    "import pandas as pd\n",
    "\n",
    "data = pd.read_csv(\"https://raw.githubusercontent.com/mwaskom/seaborn-data/master/iris.csv\")\n",
    "\n",
    "num_rows, num_cols = data.shape\n",
    "print(f\"Number of rows:{num_rows}\")\n",
    "print(f\"Number of columns:{num_cols}\")"
   ]
  },
  {
   "cell_type": "code",
   "execution_count": 6,
   "id": "bf110849",
   "metadata": {},
   "outputs": [
    {
     "name": "stdout",
     "output_type": "stream",
     "text": [
      "sepal_length    0\n",
      "sepal_width     0\n",
      "petal_length    0\n",
      "petal_width     0\n",
      "species         0\n",
      "dtype: int64\n"
     ]
    }
   ],
   "source": [
    "import pandas as pd\n",
    "\n",
    "data = pd.read_csv(\"https://raw.githubusercontent.com/mwaskom/seaborn-data/master/iris.csv\")\n",
    "\n",
    "null_counts = data.isnull().sum()\n",
    "print(null_counts)"
   ]
  },
  {
   "cell_type": "code",
   "execution_count": 9,
   "id": "3507db29",
   "metadata": {},
   "outputs": [
    {
     "name": "stdout",
     "output_type": "stream",
     "text": [
      "Average Age:30.0\n",
      "Average Height:175.0\n",
      "Average weight:70.0\n"
     ]
    }
   ],
   "source": [
    "import pandas as pd\n",
    "\n",
    "data = {'name': ['Alice','bob','Charlie'],'age':[25,30,35],'height':[170,180,175],'weight':[65,70,75]}\n",
    "df = pd.DataFrame(data)\n",
    "        \n",
    "average_age = df['age'].mean()\n",
    "average_height = df['height'].mean()\n",
    "average_weight = df['weight'].mean()\n",
    "\n",
    "print(f\"Average Age:{average_age}\")\n",
    "print(f\"Average Height:{average_height}\")\n",
    "print(f\"Average weight:{average_weight}\")"
   ]
  },
  {
   "cell_type": "code",
   "execution_count": 16,
   "id": "1f908ccb",
   "metadata": {},
   "outputs": [
    {
     "name": "stdout",
     "output_type": "stream",
     "text": [
      "      Name  Height\n",
      "0    Alice     165\n",
      "1      Bob     180\n",
      "2  Charlie     172\n",
      "3    David     175\n",
      "4    Emily     160\n",
      "5    Grace     185\n",
      "6    Frank     168\n",
      "7   Hannah     170\n"
     ]
    }
   ],
   "source": [
    "import pandas as pd\n",
    "\n",
    "data = {'Name': ['Alice','Bob','Charlie','David','Emily','Grace','Frank','Hannah'],'Height': [165,180,172,175,160,185,168,170]}\n",
    "\n",
    "people_data = pd.DataFrame(data)\n",
    "\n",
    "print(people_data)"
   ]
  },
  {
   "cell_type": "code",
   "execution_count": 17,
   "id": "9b6901c3",
   "metadata": {},
   "outputs": [
    {
     "name": "stdout",
     "output_type": "stream",
     "text": [
      "      Name  Height        BMI\n",
      "0    Alice    1.65  23.875115\n",
      "1      Bob    1.80  20.061728\n",
      "2  Charlie    1.72  21.971336\n",
      "3    David    1.75  21.224490\n",
      "4    Emily    1.60  25.390625\n",
      "5    Grace    1.85  18.991965\n",
      "6    Frank    1.68  23.030045\n",
      "7   Hannah    1.70  22.491349\n"
     ]
    }
   ],
   "source": [
    "import pandas as pd\n",
    "\n",
    "data = {'Name': ['Alice','Bob','Charlie','David','Emily','Grace','Frank','Hannah'],'Height': [165,180,172,175,160,185,168,170]}\n",
    "\n",
    "people_data = pd.DataFrame(data)\n",
    "\n",
    "people_data['Height'] = people_data['Height']/100\n",
    "people_data['BMI'] = 65 / (people_data['Height']**2)\n",
    "print(people_data)"
   ]
  },
  {
   "cell_type": "code",
   "execution_count": 20,
   "id": "f4ee82fb",
   "metadata": {},
   "outputs": [
    {
     "name": "stdout",
     "output_type": "stream",
     "text": [
      "          Age  Height  Weight\n",
      "Gender                       \n",
      "Female  28.25  165.75    61.5\n",
      "Male    34.25  178.00    77.5\n"
     ]
    }
   ],
   "source": [
    "import pandas as pd\n",
    "\n",
    "data = {'Name': ['Alice','Bob','Charlie','David','Emily','Grace','Frank','Hannah'],'Age': [25,30,35,40,28,32,27,33],'Gender': ['Female','Male','Male','Male','Female','Male','Female','Female'],'Height': [165,180,172,175,160,185,168,170],'Weight': [60,75,70,80,55,85,63,68]}\n",
    "\n",
    "people_data = pd.DataFrame(data)\n",
    "grouped_data = people_data.groupby('Gender').agg({'Age':'mean','Height':'mean','Weight':'mean'})\n",
    "\n",
    "print(grouped_data)"
   ]
  },
  {
   "cell_type": "code",
   "execution_count": 1,
   "id": "4c8a520d",
   "metadata": {},
   "outputs": [
    {
     "name": "stdout",
     "output_type": "stream",
     "text": [
      "    Name  Age  Gender  Height  Weight\n",
      "0  Alice   25  Female     165      60\n",
      "6  Frank   27  Female     168      63\n",
      "4  Emily   28  Female     160      55\n"
     ]
    }
   ],
   "source": [
    "import pandas as pd\n",
    "\n",
    "data = {'Name': ['Alice','Bob','Charlie','David','Emily','Grace','Frank','Hannah'],'Age': [25,30,35,40,28,32,27,33],'Gender': ['Female','Male','Male','Male','Female','Male','Female','Female'],'Height': [165,180,172,175,160,185,168,170],'Weight': [60,75,70,80,55,85,63,68]}\n",
    "\n",
    "people_data = pd.DataFrame(data)\n",
    "\n",
    "sorted_data = people_data.sort_values(by='Age')\n",
    "print(sorted_data.head(3))"
   ]
  },
  {
   "cell_type": "code",
   "execution_count": 3,
   "id": "09e638e1",
   "metadata": {},
   "outputs": [
    {
     "name": "stdout",
     "output_type": "stream",
     "text": [
      "      Name  Age  Gender  Height  Weight  Location\n",
      "2  Charlie   35    Male     172      70  New York\n",
      "4    Emily   28  Female     160      55  New York\n"
     ]
    }
   ],
   "source": [
    "import pandas as pd\n",
    "\n",
    "data = {'Name': ['Alice','Bob','Charlie','David','Emily'],'Age': [25,30,35,40,28],'Gender': ['Female','Male','Male','Male','Female'],'Height': [165,180,172,175,160],'Weight': [60,75,70,80,55],'Location': ['New york','California','New York','Texas','New York']}\n",
    "\n",
    "people_data = pd.DataFrame(data)\n",
    "\n",
    "my_people_data = people_data[people_data['Location']== 'New York']\n",
    "\n",
    "print(my_people_data)\n"
   ]
  },
  {
   "cell_type": "code",
   "execution_count": null,
   "id": "8394bc81",
   "metadata": {},
   "outputs": [],
   "source": []
  }
 ],
 "metadata": {
  "kernelspec": {
   "display_name": "Python 3 (ipykernel)",
   "language": "python",
   "name": "python3"
  },
  "language_info": {
   "codemirror_mode": {
    "name": "ipython",
    "version": 3
   },
   "file_extension": ".py",
   "mimetype": "text/x-python",
   "name": "python",
   "nbconvert_exporter": "python",
   "pygments_lexer": "ipython3",
   "version": "3.11.5"
  }
 },
 "nbformat": 4,
 "nbformat_minor": 5
}
