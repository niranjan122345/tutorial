{
 "cells": [
  {
   "cell_type": "code",
   "execution_count": 1,
   "id": "e57bfcc9",
   "metadata": {},
   "outputs": [
    {
     "name": "stdout",
     "output_type": "stream",
     "text": [
      "      Name  Gender  Age  Height (cm)  Weight (kg)         City\n",
      "0    Alice  Female   25          165           58     New York\n",
      "1      Bob    Male   30          180           80  Los Angeles\n",
      "2  Charlie    Male   35          175           70      Chicago\n",
      "3    Diana  Female   28          170           65        Miami\n",
      "4      Eva  Female   27          175           60     New York\n"
     ]
    }
   ],
   "source": [
    "import pandas as pd\n",
    "\n",
    "# Create a dictionary with the data\n",
    "data = {\n",
    "    'Name': ['Alice', 'Bob', 'Charlie', 'Diana', 'Eva', 'Frank', 'Grace', 'Henry', 'Ivy', 'Jack'],\n",
    "    'Gender': ['Female', 'Male', 'Male', 'Female', 'Female', 'Male', 'Female', 'Male', 'Female', 'Male'],\n",
    "    'Age': [25, 30, 35, 28, 27, 40, 32, 45, 26, 28],\n",
    "    'Height (cm)': [165, 180, 175, 170, 175, 190, 168, 175, 172, 180],\n",
    "    'Weight (kg)': [58, 80, 70, 65, 60, 85, 55, 75, 63, 78],\n",
    "    'City': ['New York', 'Los Angeles', 'Chicago', 'Miami', 'New York', 'Houston', 'Chicago', 'Los Angeles', 'Miami', 'New York']\n",
    "}\n",
    "\n",
    "# Create a DataFrame from the dictionary\n",
    "df = pd.DataFrame(data)\n",
    "\n",
    "# Print the first 5 rows of the DataFrame\n",
    "print(df.head())\n",
    "\n",
    "\n"
   ]
  },
  {
   "cell_type": "code",
   "execution_count": 7,
   "id": "ece68817",
   "metadata": {},
   "outputs": [
    {
     "name": "stdout",
     "output_type": "stream",
     "text": [
      "Number of rows: 10\n",
      "Number of columns: 6\n"
     ]
    }
   ],
   "source": [
    "import pandas as pd\n",
    "\n",
    "print(\"Number of rows:\", pd.DataFrame(data).shape[0])\n",
    "print(\"Number of columns:\", pd.DataFrame(data).shape[1])"
   ]
  },
  {
   "cell_type": "code",
   "execution_count": 8,
   "id": "bf110849",
   "metadata": {},
   "outputs": [
    {
     "name": "stdout",
     "output_type": "stream",
     "text": [
      "Name           0\n",
      "Gender         0\n",
      "Age            0\n",
      "Height (cm)    0\n",
      "Weight (kg)    0\n",
      "City           0\n",
      "dtype: int64\n"
     ]
    }
   ],
   "source": [
    "import pandas as pd\n",
    "\n",
    "print(pd.DataFrame(data).isnull().sum())"
   ]
  },
  {
   "cell_type": "code",
   "execution_count": 9,
   "id": "3507db29",
   "metadata": {},
   "outputs": [
    {
     "name": "stdout",
     "output_type": "stream",
     "text": [
      "Average Age: 31.6 years\n",
      "Average Height: 175.0 cm\n",
      "Average Weight: 68.9 kg\n"
     ]
    }
   ],
   "source": [
    "import pandas as pd\n",
    "\n",
    "data = {\n",
    "    'Name': ['Alice', 'Bob', 'Charlie', 'Diana', 'Eva', 'Frank', 'Grace', 'Henry', 'Ivy', 'Jack'],\n",
    "    'Gender': ['Female', 'Male', 'Male', 'Female', 'Female', 'Male', 'Female', 'Male', 'Female', 'Male'],\n",
    "    'Age': [25, 30, 35, 28, 27, 40, 32, 45, 26, 28],\n",
    "    'Height (cm)': [165, 180, 175, 170, 175, 190, 168, 175, 172, 180],\n",
    "    'Weight (kg)': [58, 80, 70, 65, 60, 85, 55, 75, 63, 78],\n",
    "    'City': ['New York', 'Los Angeles', 'Chicago', 'Miami', 'New York', 'Houston', 'Chicago', 'Los Angeles', 'Miami', 'New York']\n",
    "}\n",
    "\n",
    "df = pd.DataFrame(data)\n",
    "\n",
    "# Calculate the average age, height, and weight\n",
    "avg_age = df['Age'].mean()\n",
    "avg_height = df['Height (cm)'].mean()\n",
    "avg_weight = df['Weight (kg)'].mean()\n",
    "\n",
    "print(\"Average Age:\", avg_age, \"years\")\n",
    "print(\"Average Height:\", avg_height, \"cm\")\n",
    "print(\"Average Weight:\", avg_weight, \"kg\")\n",
    " "
   ]
  },
  {
   "cell_type": "code",
   "execution_count": 10,
   "id": "1f908ccb",
   "metadata": {},
   "outputs": [
    {
     "name": "stdout",
     "output_type": "stream",
     "text": [
      "The tallest person in the DataFrame is:\n",
      "Name: Frank\n",
      "City: Houston\n"
     ]
    }
   ],
   "source": [
    "import pandas as pd\n",
    "\n",
    "# Find the index of the tallest person\n",
    "tallest_index = df['Height (cm)'].idxmax()\n",
    "\n",
    "# Get the name and city of the tallest person\n",
    "tallest_person = df.loc[tallest_index, ['Name', 'City']]\n",
    "\n",
    "print(\"The tallest person in the DataFrame is:\")\n",
    "print(\"Name:\", tallest_person['Name'])\n",
    "print(\"City:\", tallest_person['City'])"
   ]
  },
  {
   "cell_type": "code",
   "execution_count": 11,
   "id": "9b6901c3",
   "metadata": {},
   "outputs": [
    {
     "name": "stdout",
     "output_type": "stream",
     "text": [
      "      Name  Gender  Age  Height (cm)  Weight (kg)         City  Height (m)  \\\n",
      "0    Alice  Female   25          165           58     New York        1.65   \n",
      "1      Bob    Male   30          180           80  Los Angeles        1.80   \n",
      "2  Charlie    Male   35          175           70      Chicago        1.75   \n",
      "3    Diana  Female   28          170           65        Miami        1.70   \n",
      "4      Eva  Female   27          175           60     New York        1.75   \n",
      "5    Frank    Male   40          190           85      Houston        1.90   \n",
      "6    Grace  Female   32          168           55      Chicago        1.68   \n",
      "7    Henry    Male   45          175           75  Los Angeles        1.75   \n",
      "8      Ivy  Female   26          172           63        Miami        1.72   \n",
      "9     Jack    Male   28          180           78     New York        1.80   \n",
      "\n",
      "         BMI  \n",
      "0  21.303949  \n",
      "1  24.691358  \n",
      "2  22.857143  \n",
      "3  22.491349  \n",
      "4  19.591837  \n",
      "5  23.545706  \n",
      "6  19.486961  \n",
      "7  24.489796  \n",
      "8  21.295295  \n",
      "9  24.074074  \n"
     ]
    }
   ],
   "source": [
    "import pandas as pd\n",
    "\n",
    " \n",
    "# Convert height from cm to m\n",
    "df['Height (m)'] = df['Height (cm)'] / 100\n",
    "\n",
    "# Calculate BMI\n",
    "df['BMI'] = df['Weight (kg)'] / (df['Height (m)'] ** 2)\n",
    "\n",
    "# Print the DataFrame with the new column\n",
    "print(df)"
   ]
  },
  {
   "cell_type": "code",
   "execution_count": 12,
   "id": "f4ee82fb",
   "metadata": {},
   "outputs": [
    {
     "name": "stdout",
     "output_type": "stream",
     "text": [
      "        Average Age  Average Height  Average Weight\n",
      "Gender                                             \n",
      "Female         27.6           170.0            60.2\n",
      "Male           35.6           180.0            77.6\n"
     ]
    }
   ],
   "source": [
    "import pandas as pd\n",
    "\n",
    "# Group the data by gender\n",
    "grouped = df.groupby('Gender')\n",
    "\n",
    "# Calculate average age, height, and weight for males and females\n",
    "averages = grouped.agg({'Age': 'mean', 'Height (cm)': 'mean', 'Weight (kg)': 'mean'})\n",
    "\n",
    "# Rename columns for clarity\n",
    "averages.columns = ['Average Age', 'Average Height', 'Average Weight']\n",
    "\n",
    "# Print the average values for males and females\n",
    "print(averages)"
   ]
  },
  {
   "cell_type": "code",
   "execution_count": 13,
   "id": "4c8a520d",
   "metadata": {},
   "outputs": [
    {
     "name": "stdout",
     "output_type": "stream",
     "text": [
      "    Name  Gender  Age  Height (cm)  Weight (kg)      City  Height (m)  \\\n",
      "0  Alice  Female   25          165           58  New York        1.65   \n",
      "8    Ivy  Female   26          172           63     Miami        1.72   \n",
      "4    Eva  Female   27          175           60  New York        1.75   \n",
      "\n",
      "         BMI  \n",
      "0  21.303949  \n",
      "8  21.295295  \n",
      "4  19.591837  \n"
     ]
    }
   ],
   "source": [
    "import pandas as pd\n",
    "\n",
    "# Sort the DataFrame by age in ascending order\n",
    "sorted_data = df.sort_values(by='Age')\n",
    "\n",
    "# Print the first 3 rows of the sorted DataFrame\n",
    "print(sorted_data.head(3))"
   ]
  },
  {
   "cell_type": "code",
   "execution_count": 14,
   "id": "09e638e1",
   "metadata": {},
   "outputs": [
    {
     "name": "stdout",
     "output_type": "stream",
     "text": [
      "    Name  Gender  Age  Height (cm)  Weight (kg)      City  Height (m)  \\\n",
      "0  Alice  Female   25          165           58  New York        1.65   \n",
      "4    Eva  Female   27          175           60  New York        1.75   \n",
      "9   Jack    Male   28          180           78  New York        1.80   \n",
      "\n",
      "         BMI  \n",
      "0  21.303949  \n",
      "4  19.591837  \n",
      "9  24.074074  \n"
     ]
    }
   ],
   "source": [
    "import pandas as pd\n",
    "\n",
    "# Filter the data to include only people who live in New York\n",
    "ny_data = df[df['City'] == 'New York']\n",
    "\n",
    "# Print the resulting DataFrame\n",
    "print(ny_data)\n"
   ]
  }
 ],
 "metadata": {
  "kernelspec": {
   "display_name": "Python 3 (ipykernel)",
   "language": "python",
   "name": "python3"
  },
  "language_info": {
   "codemirror_mode": {
    "name": "ipython",
    "version": 3
   },
   "file_extension": ".py",
   "mimetype": "text/x-python",
   "name": "python",
   "nbconvert_exporter": "python",
   "pygments_lexer": "ipython3",
   "version": "3.11.5"
  }
 },
 "nbformat": 4,
 "nbformat_minor": 5
}
