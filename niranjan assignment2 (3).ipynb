{
 "cells": [
  {
   "cell_type": "code",
   "execution_count": 1,
   "id": "cd3be03c",
   "metadata": {},
   "outputs": [
    {
     "name": "stdout",
     "output_type": "stream",
     "text": [
      "The sum of 5 and 3 is: 8\n"
     ]
    }
   ],
   "source": [
    "def add_numbers(num1, num2):\n",
    "    return num1 + num2\n",
    "\n",
    "# Example usage\n",
    "num1 = 5\n",
    "num2 = 3\n",
    "result = add_numbers(num1, num2)\n",
    "print(\"The sum of\", num1, \"and\", num2, \"is:\", result)\n"
   ]
  },
  {
   "cell_type": "code",
   "execution_count": 2,
   "id": "f93720bf",
   "metadata": {},
   "outputs": [
    {
     "name": "stdout",
     "output_type": "stream",
     "text": [
      "The product of 5 and 3 is: 15\n"
     ]
    }
   ],
   "source": [
    "def multiply_numbers(num1, num2):\n",
    "    return num1 * num2\n",
    "\n",
    "# Example usage\n",
    "num1 = 5\n",
    "num2 = 3\n",
    "result = multiply_numbers(num1, num2)\n",
    "print(\"The product of\", num1, \"and\", num2, \"is:\", result)"
   ]
  },
  {
   "cell_type": "code",
   "execution_count": 3,
   "id": "9e493484",
   "metadata": {},
   "outputs": [
    {
     "name": "stdout",
     "output_type": "stream",
     "text": [
      "The quotient of 10 and 2 is: 5.0\n",
      "The quotient of 8 and 0 is: Error: Division by zero is not allowed.\n"
     ]
    }
   ],
   "source": [
    "def divide_numbers(num1, num2):\n",
    "    if num2 == 0:\n",
    "        return \"Error: Division by zero is not allowed.\"\n",
    "    else:\n",
    "        return num1 / num2\n",
    "\n",
    "\n",
    "num1 = 10\n",
    "num2 = 2\n",
    "result = divide_numbers(num1, num2)\n",
    "print(\"The quotient of\", num1, \"and\", num2, \"is:\", result)\n",
    "\n",
    "num1 = 8\n",
    "num2 = 0\n",
    "result = divide_numbers(num1, num2)\n",
    "print(\"The quotient of\", num1, \"and\", num2, \"is:\", result)"
   ]
  },
  {
   "cell_type": "code",
   "execution_count": 4,
   "id": "4f69a367",
   "metadata": {},
   "outputs": [
    {
     "name": "stdout",
     "output_type": "stream",
     "text": [
      "The average of the numbers in the list is: 15.0\n"
     ]
    }
   ],
   "source": [
    "def calculate_average(numbers):\n",
    "    if len(numbers) == 0:\n",
    "        return \"Error: Empty list, cannot calculate average.\"\n",
    "    \n",
    "    total = sum(numbers)\n",
    "    average = total / len(numbers)\n",
    "    return average\n",
    "\n",
    "\n",
    "num_list = [5, 10, 15, 20, 25]\n",
    "average_result = calculate_average(num_list)\n",
    "print(\"The average of the numbers in the list is:\", average_result)"
   ]
  },
  {
   "cell_type": "code",
   "execution_count": 5,
   "id": "fbcec3dd",
   "metadata": {},
   "outputs": [
    {
     "name": "stdout",
     "output_type": "stream",
     "text": [
      "17 is prime: True\n"
     ]
    }
   ],
   "source": [
    " \n",
    "def is_prime(number):\n",
    "    if number <= 1:\n",
    "        return False\n",
    "    if number == 2:\n",
    "        return True\n",
    "    if number % 2 == 0:\n",
    "        return False\n",
    "    \n",
    "    for i in range(3, int(number**0.5) + 1, 2):\n",
    "        if number % i == 0:\n",
    "            return False\n",
    "    \n",
    "    return True\n",
    "\n",
    "\n",
    "num = 17\n",
    "is_prime_result = is_prime(num)\n",
    "print(f\"{num} is prime:\", is_prime_result)\n",
    "    \n"
   ]
  },
  {
   "cell_type": "code",
   "execution_count": null,
   "id": "fb6bbccf",
   "metadata": {},
   "outputs": [],
   "source": [
    "class Bank:\n",
    "    def _init_(self, name=\"Example Bank\"):\n",
    "        self.name = name\n",
    "\n",
    "class Account:\n",
    "    def _init_(self):\n",
    "        self.balance = 0\n",
    "\n",
    "# Create a Bank object with a name\n",
    "bank = Bank(\"My Bank\")\n",
    "\n",
    "# Create two Account objects and update their balances\n",
    "account1 = Account()\n",
    "account1.balance = 1000\n",
    "\n",
    "account2 = Account()\n",
    "account2.balance = 2000\n",
    "\n",
    "# Calculate the total balance of all accounts in the bank\n",
    "total_balance = account1.balance + account2.balance\n",
    "\n",
    "# Print the total balance and the bank name\n",
    "print(f\"Total balance of all accounts in {bank.name}: {total_balance}\")\n",
    " "
   ]
  }
 ],
 "metadata": {
  "kernelspec": {
   "display_name": "Python 3 (ipykernel)",
   "language": "python",
   "name": "python3"
  },
  "language_info": {
   "codemirror_mode": {
    "name": "ipython",
    "version": 3
   },
   "file_extension": ".py",
   "mimetype": "text/x-python",
   "name": "python",
   "nbconvert_exporter": "python",
   "pygments_lexer": "ipython3",
   "version": "3.11.5"
  }
 },
 "nbformat": 4,
 "nbformat_minor": 5
}
