{
 "cells": [
  {
   "cell_type": "code",
   "execution_count": 1,
   "id": "cd3be03c",
   "metadata": {},
   "outputs": [
    {
     "name": "stdout",
     "output_type": "stream",
     "text": [
      "15\n"
     ]
    }
   ],
   "source": [
    "def add_numbers(num1, num2):\n",
    "    return num1 + num2\n",
    "result = add_numbers(5, 10)\n",
    "print(result)\n"
   ]
  },
  {
   "cell_type": "code",
   "execution_count": 2,
   "id": "f93720bf",
   "metadata": {},
   "outputs": [
    {
     "name": "stdout",
     "output_type": "stream",
     "text": [
      "50\n"
     ]
    }
   ],
   "source": [
    "def multiply_numbers(num1, num2):\n",
    "    return num1 * num2\n",
    "result = multiply_numbers(5, 10)\n",
    "print(result)"
   ]
  },
  {
   "cell_type": "code",
   "execution_count": 7,
   "id": "9e493484",
   "metadata": {},
   "outputs": [
    {
     "name": "stdout",
     "output_type": "stream",
     "text": [
      "50\n"
     ]
    }
   ],
   "source": [
    "def divide_numbers(a, b):\n",
    " if b == 0:\n",
    "    return a / b\n",
    " divide_numbers(5, 2)\n",
    "print(result)"
   ]
  },
  {
   "cell_type": "code",
   "execution_count": 19,
   "id": "4f69a367",
   "metadata": {},
   "outputs": [
    {
     "name": "stdout",
     "output_type": "stream",
     "text": [
      "<function calculate_average at 0x000001F26AEF7740>\n"
     ]
    }
   ],
   "source": [
    "def calculate_average(numbers):\n",
    "    numbers = [10, 20, 30, 40]\n",
    "average_result = calculate_average\n",
    "print(average_result)   "
   ]
  },
  {
   "cell_type": "code",
   "execution_count": 40,
   "id": "fbcec3dd",
   "metadata": {},
   "outputs": [
    {
     "name": "stdout",
     "output_type": "stream",
     "text": [
      "None\n"
     ]
    }
   ],
   "source": [
    "def is_prime(num):\n",
    " num = 17\n",
    "result = is_prime(17)\n",
    "print(result)\n",
    "    \n"
   ]
  },
  {
   "cell_type": "code",
   "execution_count": 1,
   "id": "77287d7b",
   "metadata": {},
   "outputs": [
    {
     "ename": "NameError",
     "evalue": "name 'bank' is not defined",
     "output_type": "error",
     "traceback": [
      "\u001b[1;31m---------------------------------------------------------------------------\u001b[0m",
      "\u001b[1;31mNameError\u001b[0m                                 Traceback (most recent call last)",
      "Cell \u001b[1;32mIn[1], line 1\u001b[0m\n\u001b[1;32m----> 1\u001b[0m \u001b[38;5;28;01mclass\u001b[39;00m \u001b[38;5;21;01mbank\u001b[39;00m:\n\u001b[0;32m      2\u001b[0m     \u001b[38;5;28;01mdef\u001b[39;00m \u001b[38;5;21m_init_\u001b[39m(\u001b[38;5;28mself\u001b[39m, name):\n\u001b[0;32m      3\u001b[0m         \u001b[38;5;28mself\u001b[39m\u001b[38;5;241m.\u001b[39mname\u001b[38;5;241m=\u001b[39m name\n",
      "Cell \u001b[1;32mIn[1], line 18\u001b[0m, in \u001b[0;36mbank\u001b[1;34m()\u001b[0m\n\u001b[0;32m     15\u001b[0m         total_balance \u001b[38;5;241m+\u001b[39m\u001b[38;5;241m=\u001b[39m account\u001b[38;5;241m.\u001b[39mbalance\n\u001b[0;32m     16\u001b[0m     \u001b[38;5;28;01mreturn\u001b[39;00m total_balance\n\u001b[1;32m---> 18\u001b[0m bank \u001b[38;5;241m=\u001b[39m bank(\u001b[38;5;124m\"\u001b[39m\u001b[38;5;124mFirst national bank\u001b[39m\u001b[38;5;124m\"\u001b[39m)\n\u001b[0;32m     20\u001b[0m \u001b[38;5;66;03m#add some accounts to the bank\u001b[39;00m\n\u001b[0;32m     21\u001b[0m bank\u001b[38;5;241m.\u001b[39madd_account(Account(\u001b[38;5;124m\"\u001b[39m\u001b[38;5;124mJohn Doe\u001b[39m\u001b[38;5;124m\"\u001b[39m, \u001b[38;5;241m1000\u001b[39m))\n",
      "\u001b[1;31mNameError\u001b[0m: name 'bank' is not defined"
     ]
    }
   ],
   "source": [
    "class bank:\n",
    "    def _init_(self, name):\n",
    "        self.name= name\n",
    "        self.accounts = []\n",
    "        \n",
    "    def add_account(self,  account):\n",
    "        self.accounts.append(account)\n",
    "        \n",
    "    def remove_account(self, account):\n",
    "        self.accounts.remove(account)\n",
    "        \n",
    "    def get_total_balance(self):\n",
    "        total_balance = 0\n",
    "        for account in self.accounts:\n",
    "            total_balance += account.balance\n",
    "        return total_balance\n",
    "    \n",
    "    bank = bank(\"First national bank\")\n",
    "    \n",
    "    #add some accounts to the bank\n",
    "    bank.add_account(Account(\"John Doe\", 1000))\n",
    "    bank.add_account(Account(\"Jane Doe\", 2000))\n",
    "    \n",
    "    #Get the total balance of all accounts in the bank\n",
    "    total_balance = bank.get_total_balance()\n",
    "    \n",
    "    \n",
    "    #Print the total balance\n",
    "    print(total_balance)\n",
    "    \n",
    "      "
   ]
  },
  {
   "cell_type": "code",
   "execution_count": null,
   "id": "fdd7620a",
   "metadata": {},
   "outputs": [],
   "source": []
  },
  {
   "cell_type": "code",
   "execution_count": null,
   "id": "ce0d5b7a",
   "metadata": {},
   "outputs": [],
   "source": []
  }
 ],
 "metadata": {
  "kernelspec": {
   "display_name": "Python 3 (ipykernel)",
   "language": "python",
   "name": "python3"
  },
  "language_info": {
   "codemirror_mode": {
    "name": "ipython",
    "version": 3
   },
   "file_extension": ".py",
   "mimetype": "text/x-python",
   "name": "python",
   "nbconvert_exporter": "python",
   "pygments_lexer": "ipython3",
   "version": "3.11.5"
  }
 },
 "nbformat": 4,
 "nbformat_minor": 5
}
